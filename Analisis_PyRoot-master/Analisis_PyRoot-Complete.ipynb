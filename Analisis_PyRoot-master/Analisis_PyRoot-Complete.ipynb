{
 "cells": [
  {
   "cell_type": "markdown",
   "metadata": {
    "deletable": true,
    "editable": true
   },
   "source": [
    "# Análisis de datos utilizando PyRoot\n"
   ]
  },
  {
   "cell_type": "markdown",
   "metadata": {
    "deletable": true,
    "editable": true
   },
   "source": [
    "###Cargo los paquetes nesesarias"
   ]
  },
  {
   "cell_type": "code",
   "execution_count": 1,
   "metadata": {
    "collapsed": true,
    "deletable": true,
    "editable": true
   },
   "outputs": [],
   "source": [
    "#from IPython.core.interactiveshell import InteractiveShell\n",
    "import ROOT\n",
    "import os\n",
    "import commands\n",
    "#InteractiveShell.ast_node_interactivity = \"all\" # Para tener el modo interactivo completo"
   ]
  },
  {
   "cell_type": "code",
   "execution_count": 2,
   "metadata": {
    "collapsed": false,
    "deletable": true,
    "editable": true,
    "scrolled": true
   },
   "outputs": [],
   "source": [
    "ROOT.gROOT.Reset()"
   ]
  },
  {
   "cell_type": "markdown",
   "metadata": {
    "deletable": true,
    "editable": true
   },
   "source": [
    "###Cargo las Librerías nesesarias"
   ]
  },
  {
   "cell_type": "code",
   "execution_count": 3,
   "metadata": {
    "collapsed": true,
    "deletable": true,
    "editable": true
   },
   "outputs": [],
   "source": [
    "#Esta es la ruta a la librería dinámica de Delphes (debe de ser compilada con la misma versión de root del notebook)\n",
    "#ROOT.gSystem.AddDynamicPath(\"/scratch/cms/MadGraph/MG5_aMC_v2_5_2/Delphes/\")\n",
    "ROOT.gSystem.AddDynamicPath(\"/home/mylocal/MG5_aMC_v2_5_2/Delphes\")"
   ]
  },
  {
   "cell_type": "code",
   "execution_count": 4,
   "metadata": {
    "collapsed": false,
    "deletable": true,
    "editable": true
   },
   "outputs": [],
   "source": [
    "ROOT.gSystem.Load(\"libDelphes\");"
   ]
  },
  {
   "cell_type": "markdown",
   "metadata": {
    "deletable": true,
    "editable": true
   },
   "source": [
    "###Construcción del TChain"
   ]
  },
  {
   "cell_type": "code",
   "execution_count": 5,
   "metadata": {
    "collapsed": false,
    "deletable": true,
    "editable": true
   },
   "outputs": [],
   "source": [
    "##Obtengo el número y nombre de carpetas run_#\n",
    "#tmp = commands.getstatusoutput('ls /scratch/cms/Datos/MM_2j_mu-nu-Run0/Events')\n",
    "##Parto la cadena de caracteres por '\\n', y asigno las partes a un arreglo\n",
    "#Runs = tmp[1].split(\"\\n\") "
   ]
  },
  {
   "cell_type": "code",
   "execution_count": 6,
   "metadata": {
    "collapsed": false,
    "deletable": true,
    "editable": true
   },
   "outputs": [],
   "source": [
    "#Creo el objeto TChain\n",
    "MainChain1=ROOT.TChain(\"Delphes\")"
   ]
  },
  {
   "cell_type": "code",
   "execution_count": 7,
   "metadata": {
    "collapsed": false,
    "deletable": true,
    "editable": true
   },
   "outputs": [],
   "source": [
    "##Lleno el objeto MainChain con las salidas de MadGraph-Pythia_Delphes\n",
    "#for run in range(len(Runs)):\n",
    "#    input = \"../Datos/MM_2j_mu-nu-Run0/Events/\"+Runs[run]+\"/tag_1_delphes_events.root\"\n",
    "#    MainChain.Add(input)\n",
    "    "
   ]
  },
  {
   "cell_type": "code",
   "execution_count": 8,
   "metadata": {
    "collapsed": false,
    "deletable": true,
    "editable": true,
    "scrolled": true
   },
   "outputs": [
    {
     "data": {
      "text/plain": [
       "1"
      ]
     },
     "execution_count": 8,
     "metadata": {},
     "output_type": "execute_result"
    }
   ],
   "source": [
    "MainChain1.Add(\"/home/nvanegas/work/main-process/Events/AllRuns/tag_2_delphes_events-run02.root\")\n",
    "MainChain1.Add(\"/home/nvanegas/work/main-process/Events/AllRuns/tag_2_delphes_events-run03.root\")\n",
    "MainChain1.Add(\"/home/nvanegas/work/main-process/Events/AllRuns/tag_2_delphes_events-run04.root\")\n",
    "MainChain1.Add(\"/home/nvanegas/work/main-process/Events/AllRuns/tag_2_delphes_events-run05.root\")\n",
    "MainChain1.Add(\"/home/nvanegas/work/main-process/Events/AllRuns/tag_2_delphes_events-run06.root\")\n",
    "MainChain1.Add(\"/home/nvanegas/work/main-process/Events/AllRuns/tag_2_delphes_events-run07.root\")\n",
    "MainChain1.Add(\"/home/nvanegas/work/main-process/Events/AllRuns/tag_2_delphes_events-run08.root\")\n",
    "MainChain1.Add(\"/home/nvanegas/work/main-process/Events/AllRuns/tag_2_delphes_events-run09.root\")"
   ]
  },
  {
   "cell_type": "code",
   "execution_count": 9,
   "metadata": {
    "collapsed": false,
    "deletable": true,
    "editable": true
   },
   "outputs": [
    {
     "name": "stdout",
     "output_type": "stream",
     "text": [
      "83042\n"
     ]
    }
   ],
   "source": [
    "#Creo el objeto ExRootTreeReader\n",
    "treeReader1 = ROOT.ExRootTreeReader(MainChain1)\n",
    "numberOfEntries1 = treeReader1.GetEntries()\n",
    "print(numberOfEntries1)"
   ]
  },
  {
   "cell_type": "code",
   "execution_count": 10,
   "metadata": {
    "collapsed": false,
    "deletable": true,
    "editable": true
   },
   "outputs": [],
   "source": [
    "#Obtengo las ramas que voy a usar\n",
    "branchJet1 = treeReader1.UseBranch(\"Jet\")\n",
    "branchMuon1 = treeReader1.UseBranch(\"Muon\")\n",
    "branchMissingET1 = treeReader1.UseBranch(\"MissingET\")"
   ]
  },
  {
   "cell_type": "code",
   "execution_count": 11,
   "metadata": {
    "collapsed": false,
    "deletable": true,
    "editable": true
   },
   "outputs": [],
   "source": [
    "# Inicializo los contadores\n",
    "cut1=0; cut2=0; cut3=0; cut4=0; cut5=0;"
   ]
  },
  {
   "cell_type": "code",
   "execution_count": 12,
   "metadata": {
    "collapsed": false,
    "deletable": true,
    "editable": true
   },
   "outputs": [
    {
     "name": "stderr",
     "output_type": "stream",
     "text": [
      "TClass::TClass:0: RuntimeWarning: no dictionary for class CompBase is available\n"
     ]
    }
   ],
   "source": [
    "# Loop sobre los eventos\n",
    "for entry in range(0, numberOfEntries1):\n",
    "    #Se carga la entrada espesífica\n",
    "    treeReader1.ReadEntry(entry)\n",
    "\n",
    "    # Primer corte, al menos 2 jet\n",
    "    if branchJet1.GetEntries() > 1:\n",
    "        cut1 = cut1 +1;\n",
    "        bcount1=0;\n",
    "        for i in range(0, branchJet1.GetEntries() ):\n",
    "            jet1 = branchJet1.At(i)\n",
    "            #Cuento cuantos jet hay identificados como b quarks\n",
    "            if jet1.BTag :\n",
    "                bcount1 = bcount1 + 1;\n",
    "            \n",
    "        # Segundo corte, al menos 2 jet b       \n",
    "        if bcount1 > 1:\n",
    "            cut2 = cut2 +1;\n",
    "            \n",
    "            # If event contains at least 2 muons\n",
    "            if branchMuon1.GetEntries() > 1:\n",
    "                cut3 = cut3 +1;\n",
    "                # Tomo los dos muones mas energéticos y comparo sus cargas eléctricas\n",
    "                muon1 = branchMuon1.At(0)\n",
    "                muon2 = branchMuon1.At(1)\n",
    "                \n",
    "                #Corte 4: Que los muones mas energéticos tengan cargas diferentes\n",
    "                if muon1.Charge*muon2.Charge < 0:\n",
    "                    cut4 = cut4 +1;\n",
    "\n",
    "                    \n",
    "                    #Corte 5: muones mas energéticos tengan masa invariante diferente de la del Z\n",
    "                    MassMuon= (muon1.P4()+muon2.P4()).M();\n",
    "                    if not((MassMuon>80) and (MassMuon<100)):\n",
    "                        cut5 = cut5 +1;"
   ]
  },
  {
   "cell_type": "code",
   "execution_count": 13,
   "metadata": {
    "collapsed": false,
    "deletable": true,
    "editable": true
   },
   "outputs": [
    {
     "name": "stdout",
     "output_type": "stream",
     "text": [
      "83042\n",
      "78032\n",
      "26436\n",
      "17296\n",
      "17262\n",
      "14963\n"
     ]
    }
   ],
   "source": [
    "print numberOfEntries1;\n",
    "print cut1;\n",
    "print cut2;\n",
    "print cut3;\n",
    "print cut4;\n",
    "print cut5;\n"
   ]
  },
  {
   "cell_type": "code",
   "execution_count": 14,
   "metadata": {
    "collapsed": true,
    "deletable": true,
    "editable": true
   },
   "outputs": [],
   "source": [
    "MainChain2=ROOT.TChain(\"Delphes\")"
   ]
  },
  {
   "cell_type": "code",
   "execution_count": 15,
   "metadata": {
    "collapsed": false,
    "deletable": true,
    "editable": true
   },
   "outputs": [
    {
     "data": {
      "text/plain": [
       "1"
      ]
     },
     "execution_count": 15,
     "metadata": {},
     "output_type": "execute_result"
    }
   ],
   "source": [
    "MainChain2.Add(\"/home/nvanegas/work/bkgnd-tw/Events/run_02/tag_2_delphes_events.root\")"
   ]
  },
  {
   "cell_type": "code",
   "execution_count": 16,
   "metadata": {
    "collapsed": false,
    "deletable": true,
    "editable": true
   },
   "outputs": [
    {
     "name": "stdout",
     "output_type": "stream",
     "text": [
      "16061\n"
     ]
    }
   ],
   "source": [
    "treeReader2 = ROOT.ExRootTreeReader(MainChain2)\n",
    "numberOfEntries2 = treeReader2.GetEntries()\n",
    "print(numberOfEntries2)"
   ]
  },
  {
   "cell_type": "code",
   "execution_count": 17,
   "metadata": {
    "collapsed": true,
    "deletable": true,
    "editable": true
   },
   "outputs": [],
   "source": [
    "#Obtengo las ramas que voy a usar\n",
    "branchJet2 = treeReader2.UseBranch(\"Jet\")\n",
    "branchMuon2 = treeReader2.UseBranch(\"Muon\")\n",
    "branchMissingET2 = treeReader2.UseBranch(\"MissingET\")"
   ]
  },
  {
   "cell_type": "code",
   "execution_count": 18,
   "metadata": {
    "collapsed": true,
    "deletable": true,
    "editable": true
   },
   "outputs": [],
   "source": [
    "# Inicializo los contadores\n",
    "cut12=0; cut22=0; cut32=0; cut42=0; cut52=0;"
   ]
  },
  {
   "cell_type": "code",
   "execution_count": 19,
   "metadata": {
    "collapsed": true,
    "deletable": true,
    "editable": true
   },
   "outputs": [],
   "source": [
    "# Loop sobre los eventos\n",
    "for entry in range(0, numberOfEntries2):\n",
    "    #Se carga la entrada espesífica\n",
    "    treeReader2.ReadEntry(entry)\n",
    "\n",
    "    # Primer corte, al menos 2 jet\n",
    "    if branchJet2.GetEntries() > 1:\n",
    "        cut12 = cut12 +1;\n",
    "        bcount2=0;\n",
    "        for i in range(0, branchJet2.GetEntries() ):\n",
    "            jet2 = branchJet2.At(i)\n",
    "            #Cuento cuantos jet hay identificados como b quarks\n",
    "            if jet2.BTag :\n",
    "                bcount2 = bcount2 + 1;\n",
    "            \n",
    "        # Segundo corte, al menos 2 jet b       \n",
    "        if bcount2 > 1:\n",
    "            cut22 = cut22 +1;\n",
    "            \n",
    "            # If event contains at least 2 muons\n",
    "            if branchMuon2.GetEntries() > 1:\n",
    "                cut32 = cut32 +1;\n",
    "                # Tomo los dos muones mas energéticos y comparo sus cargas eléctricas\n",
    "                muon12 = branchMuon2.At(0)\n",
    "                muon22 = branchMuon2.At(1)\n",
    "                \n",
    "                #Corte 4: Que los muones mas energéticos tengan cargas diferentes\n",
    "                if muon12.Charge*muon22.Charge < 0:\n",
    "                    cut42 = cut42 +1;\n",
    "\n",
    "                    \n",
    "                    #Corte 5: muones mas energéticos tengan masa invariante diferente de la del Z\n",
    "                    MassMuon2= (muon12.P4()+muon22.P4()).M();\n",
    "                    if not((MassMuon2>80) and (MassMuon2<100)):\n",
    "                        cut52 = cut52 +1;"
   ]
  },
  {
   "cell_type": "code",
   "execution_count": 20,
   "metadata": {
    "collapsed": false,
    "deletable": true,
    "editable": true
   },
   "outputs": [
    {
     "name": "stdout",
     "output_type": "stream",
     "text": [
      "16061\n",
      "14899\n",
      "5042\n",
      "3200\n",
      "3196\n",
      "2765\n"
     ]
    }
   ],
   "source": [
    "print numberOfEntries2;\n",
    "print cut12;\n",
    "print cut22;\n",
    "print cut32;\n",
    "print cut42;\n",
    "print cut52;"
   ]
  },
  {
   "cell_type": "code",
   "execution_count": 21,
   "metadata": {
    "collapsed": false,
    "deletable": true,
    "editable": true
   },
   "outputs": [],
   "source": [
    "MainChain3=ROOT.TChain(\"Delphes\")"
   ]
  },
  {
   "cell_type": "code",
   "execution_count": 22,
   "metadata": {
    "collapsed": false,
    "deletable": true,
    "editable": true
   },
   "outputs": [
    {
     "data": {
      "text/plain": [
       "1"
      ]
     },
     "execution_count": 22,
     "metadata": {},
     "output_type": "execute_result"
    }
   ],
   "source": [
    "MainChain3.Add(\"/home/nvanegas/work/bkgnd-DY/Events/run_01/tag_1_delphes_events.root\")"
   ]
  },
  {
   "cell_type": "code",
   "execution_count": 23,
   "metadata": {
    "collapsed": false,
    "deletable": true,
    "editable": true
   },
   "outputs": [
    {
     "name": "stdout",
     "output_type": "stream",
     "text": [
      "39884\n"
     ]
    }
   ],
   "source": [
    "treeReader3 = ROOT.ExRootTreeReader(MainChain3)\n",
    "numberOfEntries3 = treeReader3.GetEntries()\n",
    "print(numberOfEntries3)"
   ]
  },
  {
   "cell_type": "code",
   "execution_count": 24,
   "metadata": {
    "collapsed": true,
    "deletable": true,
    "editable": true
   },
   "outputs": [],
   "source": [
    "#Obtengo las ramas que voy a usar\n",
    "branchJet3 = treeReader3.UseBranch(\"Jet\")\n",
    "branchMuon3 = treeReader3.UseBranch(\"Muon\")\n",
    "branchMissingET3 = treeReader3.UseBranch(\"MissingET\")"
   ]
  },
  {
   "cell_type": "code",
   "execution_count": 25,
   "metadata": {
    "collapsed": true,
    "deletable": true,
    "editable": true
   },
   "outputs": [],
   "source": [
    "# Inicializo los contadores\n",
    "cut13=0; cut23=0; cut33=0; cut43=0; cut53=0;"
   ]
  },
  {
   "cell_type": "code",
   "execution_count": 26,
   "metadata": {
    "collapsed": true,
    "deletable": true,
    "editable": true
   },
   "outputs": [],
   "source": [
    "# Loop sobre los eventos\n",
    "for entry in range(0, numberOfEntries3):\n",
    "    #Se carga la entrada espesífica\n",
    "    treeReader3.ReadEntry(entry)\n",
    "\n",
    "    # Primer corte, al menos 2 jet\n",
    "    if branchJet3.GetEntries() > 1:\n",
    "        cut13 = cut13 +1;\n",
    "        bcount3=0;\n",
    "        for i in range(0, branchJet3.GetEntries() ):\n",
    "            jet3 = branchJet3.At(i)\n",
    "            #Cuento cuantos jet hay identificados como b quarks\n",
    "            if jet3.BTag :\n",
    "                bcount3 = bcount3 + 1;\n",
    "            \n",
    "        # Segundo corte, al menos 2 jet b       \n",
    "        if bcount3 > 1:\n",
    "            cut23 = cut23 +1;\n",
    "            \n",
    "            # If event contains at least 2 muons\n",
    "            if branchMuon3.GetEntries() > 1:\n",
    "                cut33 = cut33 +1;\n",
    "                # Tomo los dos muones mas energéticos y comparo sus cargas eléctricas\n",
    "                muon13 = branchMuon3.At(0)\n",
    "                muon23 = branchMuon3.At(1)\n",
    "                \n",
    "                #Corte 4: Que los muones mas energéticos tengan cargas diferentes\n",
    "                if muon13.Charge*muon23.Charge < 0:\n",
    "                    cut43 = cut43 +1;\n",
    "\n",
    "                    \n",
    "                    #Corte 5: muones mas energéticos tengan masa invariante diferente de la del Z\n",
    "                    MassMuon3= (muon13.P4()+muon23.P4()).M();\n",
    "                    if not((MassMuon3>80) and (MassMuon3<100)):\n",
    "                        cut53 = cut53 +1;"
   ]
  },
  {
   "cell_type": "code",
   "execution_count": 27,
   "metadata": {
    "collapsed": false,
    "deletable": true,
    "editable": true
   },
   "outputs": [
    {
     "name": "stdout",
     "output_type": "stream",
     "text": [
      "39884\n",
      "6338\n",
      "71\n",
      "49\n",
      "48\n",
      "6\n"
     ]
    }
   ],
   "source": [
    "print numberOfEntries3;\n",
    "print cut13;\n",
    "print cut23;\n",
    "print cut33;\n",
    "print cut43;\n",
    "print cut53;"
   ]
  },
  {
   "cell_type": "code",
   "execution_count": 28,
   "metadata": {
    "collapsed": false,
    "deletable": true,
    "editable": true
   },
   "outputs": [
    {
     "data": {
      "text/plain": [
       "1"
      ]
     },
     "execution_count": 28,
     "metadata": {},
     "output_type": "execute_result"
    }
   ],
   "source": [
    "MainChain4=ROOT.TChain(\"Delphes\")\n",
    "MainChain4.Add(\"/home/nvanegas/work/bkgnd-ww/Events/run_01/tag_1_delphes_events.root\")"
   ]
  },
  {
   "cell_type": "code",
   "execution_count": 29,
   "metadata": {
    "collapsed": false,
    "deletable": true,
    "editable": true
   },
   "outputs": [
    {
     "name": "stdout",
     "output_type": "stream",
     "text": [
      "22236\n"
     ]
    }
   ],
   "source": [
    "treeReader4 = ROOT.ExRootTreeReader(MainChain4)\n",
    "numberOfEntries4 = treeReader4.GetEntries()\n",
    "print(numberOfEntries4)"
   ]
  },
  {
   "cell_type": "code",
   "execution_count": 30,
   "metadata": {
    "collapsed": true,
    "deletable": true,
    "editable": true
   },
   "outputs": [],
   "source": [
    "#Obtengo las ramas que voy a usar\n",
    "branchJet4 = treeReader4.UseBranch(\"Jet\")\n",
    "branchMuon4 = treeReader4.UseBranch(\"Muon\")\n",
    "branchMissingET4 = treeReader4.UseBranch(\"MissingET\")"
   ]
  },
  {
   "cell_type": "code",
   "execution_count": 31,
   "metadata": {
    "collapsed": true,
    "deletable": true,
    "editable": true
   },
   "outputs": [],
   "source": [
    "# Inicializo los contadores\n",
    "cut14=0; cut24=0; cut34=0; cut44=0; cut54=0;"
   ]
  },
  {
   "cell_type": "code",
   "execution_count": 32,
   "metadata": {
    "collapsed": true,
    "deletable": true,
    "editable": true
   },
   "outputs": [],
   "source": [
    "# Loop sobre los eventos\n",
    "for entry in range(0, numberOfEntries4):\n",
    "    #Se carga la entrada espesífica\n",
    "    treeReader4.ReadEntry(entry)\n",
    "\n",
    "    # Primer corte, al menos 2 jet\n",
    "    if branchJet4.GetEntries() > 1:\n",
    "        cut14 = cut14 +1;\n",
    "        bcount4=0;\n",
    "        for i in range(0, branchJet4.GetEntries() ):\n",
    "            jet4 = branchJet4.At(i)\n",
    "            #Cuento cuantos jet hay identificados como b quarks\n",
    "            if jet4.BTag :\n",
    "                bcount4 = bcount4 + 1;\n",
    "            \n",
    "        # Segundo corte, al menos 2 jet b       \n",
    "        if bcount4 > 1:\n",
    "            cut24 = cut24 +1;\n",
    "            \n",
    "            # If event contains at least 2 muons\n",
    "            if branchMuon4.GetEntries() > 1:\n",
    "                cut34 = cut34 +1;\n",
    "                # Tomo los dos muones mas energéticos y comparo sus cargas eléctricas\n",
    "                muon14 = branchMuon4.At(0)\n",
    "                muon24 = branchMuon4.At(1)\n",
    "                \n",
    "                #Corte 4: Que los muones mas energéticos tengan cargas diferentes\n",
    "                if muon14.Charge*muon24.Charge < 0:\n",
    "                    cut44 = cut44 +1;\n",
    "\n",
    "                    \n",
    "                    #Corte 5: muones mas energéticos tengan masa invariante diferente de la del Z\n",
    "                    MassMuon4= (muon14.P4()+muon24.P4()).M();\n",
    "                    if not((MassMuon4>80) and (MassMuon4<100)):\n",
    "                        cut54 = cut54 +1;"
   ]
  },
  {
   "cell_type": "code",
   "execution_count": 33,
   "metadata": {
    "collapsed": false,
    "deletable": true,
    "editable": true
   },
   "outputs": [
    {
     "name": "stdout",
     "output_type": "stream",
     "text": [
      "22236\n",
      "17161\n",
      "5193\n",
      "3313\n",
      "3310\n",
      "2910\n"
     ]
    }
   ],
   "source": [
    "print numberOfEntries4;\n",
    "print cut14;\n",
    "print cut24;\n",
    "print cut34;\n",
    "print cut44;\n",
    "print cut54;"
   ]
  },
  {
   "cell_type": "code",
   "execution_count": 34,
   "metadata": {
    "collapsed": true,
    "deletable": true,
    "editable": true
   },
   "outputs": [],
   "source": [
    "w = 6; h = 15;\n",
    "MM = [[0.0 for x in range(h)] for y in range(w)] "
   ]
  },
  {
   "cell_type": "markdown",
   "metadata": {
    "deletable": true,
    "editable": true
   },
   "source": []
  },
  {
   "cell_type": "code",
   "execution_count": 35,
   "metadata": {
    "collapsed": false,
    "deletable": true,
    "editable": true
   },
   "outputs": [],
   "source": [
    "MM[0][0]=numberOfEntries1*1.0;\n",
    "MM[0][1]=numberOfEntries2*1.0;\n",
    "MM[0][2]=numberOfEntries3*1.0;\n",
    "MM[0][3]=numberOfEntries4*1.0;\n",
    "MM[1][0]=cut1*1.0;\n",
    "MM[1][1]=cut12*1.0;\n",
    "MM[1][2]=cut13*1.0;\n",
    "MM[1][3]=cut14*1.0;\n",
    "MM[2][0]=cut2*1.0;\n",
    "MM[2][1]=cut22*1.0;\n",
    "MM[2][2]=cut23*1.0;\n",
    "MM[2][3]=cut24*1.0;\n",
    "MM[3][0]=cut3*1.0;\n",
    "MM[3][1]=cut32*1.0;\n",
    "MM[3][2]=cut33*1.0;\n",
    "MM[3][3]=cut34*1.0;\n",
    "MM[4][0]=cut4*1.0;\n",
    "MM[4][1]=cut42*1.0;\n",
    "MM[4][2]=cut43*1.0;\n",
    "MM[4][3]=cut44*1.0;\n",
    "MM[5][0]=cut5*1.0;\n",
    "MM[5][1]=cut52*1.0;\n",
    "MM[5][2]=cut53*1.0;\n",
    "MM[5][3]=cut54*1.0;"
   ]
  },
  {
   "cell_type": "code",
   "execution_count": 36,
   "metadata": {
    "collapsed": false,
    "deletable": true,
    "editable": true
   },
   "outputs": [],
   "source": [
    "#MM #la señal es la primera columna, las filas con los diferentes cortes de 1 a 5."
   ]
  },
  {
   "cell_type": "code",
   "execution_count": 37,
   "metadata": {
    "collapsed": false,
    "deletable": true,
    "editable": true
   },
   "outputs": [],
   "source": [
    "for l in range(4, h-3):\n",
    "    MM[0][l] = 1.0"
   ]
  },
  {
   "cell_type": "code",
   "execution_count": 38,
   "metadata": {
    "collapsed": false,
    "deletable": true,
    "editable": true
   },
   "outputs": [],
   "source": [
    "#MM"
   ]
  },
  {
   "cell_type": "code",
   "execution_count": 39,
   "metadata": {
    "collapsed": false,
    "deletable": true,
    "editable": true
   },
   "outputs": [
    {
     "name": "stdout",
     "output_type": "stream",
     "text": [
      "[[83042.0, 16061.0, 39884.0, 22236.0, 1.0, 1.0, 1.0, 1.0, 1.0, 1.0, 1.0, 1.0, 0.0, 0.0, 0.0], [78032.0, 14899.0, 6338.0, 17161.0, 0.9396690831145685, 0.9396690831145685, 0.927650831206027, 0.927650831206027, 0.1589108414401765, 0.1589108414401765, 0.7717665047670444, 0.7717665047670444, 255.97198305761424, 268.6449701655681, 252.91246320436622], [26436.0, 5042.0, 71.0, 5193.0, 0.3387840885790445, 0.3183449338888755, 0.3384119739579838, 0.313928148932196, 0.011202272010097823, 0.0017801624711663824, 0.3026047433133267, 0.23354020507285483, 149.00202739557048, 162.37361293073414, 148.6459266033859], [17296.0, 3200.0, 49.0, 3313.0, 0.6542593433197156, 0.20828014739529394, 0.6346687822292741, 0.19924039599028703, 0.6901408450704225, 0.001228562832213419, 0.6379741960331216, 0.14899262457276488, 120.81229109630173, 131.32836108799722, 120.4806264424068], [17262.0, 3196.0, 48.0, 3310.0, 0.9980342275670675, 0.20787071602321716, 0.99875, 0.19899134549529918, 0.9795918367346939, 0.0012034901213519205, 0.9990944763054633, 0.14885770822090305, 120.68673135370408, 131.20264136919283, 120.35187327473913], [14963.0, 2765.0, 6.0, 2910.0, 0.8668172865253158, 0.18018593001131958, 0.8651439299123905, 0.17215615466035739, 0.125, 0.00015043626516899006, 0.879154078549849, 0.1308688613059903, 112.37994220588723, 122.29882421744811, 111.92315610243364]]\n"
     ]
    }
   ],
   "source": [
    "for l in range(1,w):\n",
    "    for m in range(0,4):\n",
    "        k=2*m+4\n",
    "        n=2*m+5\n",
    "        MM[l][k] = MM[l][m]/MM[l-1][m]\n",
    "        MM[l][n] = MM[l][m]/MM[0][m]\n",
    "    \n",
    "import math\n",
    "\n",
    "for j in range(1,6):\n",
    "    for l in range(12,15):\n",
    "        MM[j][l] =  MM[j][0]/(math.sqrt(MM[j][0] + MM[j][l-11]))\n",
    "            \n",
    "print MM"
   ]
  },
  {
   "cell_type": "code",
   "execution_count": 40,
   "metadata": {
    "collapsed": false,
    "deletable": true,
    "editable": true
   },
   "outputs": [
    {
     "name": "stdout",
     "output_type": "stream",
     "text": [
      "[[83042.0, 16061.0, 39884.0, 22236.0, 1.0, 1.0, 1.0, 1.0, 1.0, 1.0, 1.0, 1.0, 0.0, 0.0, 0.0], [78032.0, 14899.0, 6338.0, 17161.0, 0.94, 0.94, 0.93, 0.93, 0.16, 0.16, 0.77, 0.77, 255.97, 268.64, 252.91], [26436.0, 5042.0, 71.0, 5193.0, 0.34, 0.32, 0.34, 0.31, 0.01, 0.0, 0.3, 0.23, 149.0, 162.37, 148.65], [17296.0, 3200.0, 49.0, 3313.0, 0.65, 0.21, 0.63, 0.2, 0.69, 0.0, 0.64, 0.15, 120.81, 131.33, 120.48], [17262.0, 3196.0, 48.0, 3310.0, 1.0, 0.21, 1.0, 0.2, 0.98, 0.0, 1.0, 0.15, 120.69, 131.2, 120.35], [14963.0, 2765.0, 6.0, 2910.0, 0.87, 0.18, 0.87, 0.17, 0.13, 0.0, 0.88, 0.13, 112.38, 122.3, 111.92]]\n"
     ]
    }
   ],
   "source": [
    "#con tres decimales\n",
    "Cortes = [[0 for i in range(h)] for i in range(w)]\n",
    "\n",
    "for i in range(w):\n",
    "    for j in range(h):\n",
    "        Cortes[i][j] = round(MM[i][j], 2)\n",
    "\n",
    "print Cortes"
   ]
  },
  {
   "cell_type": "code",
   "execution_count": 41,
   "metadata": {
    "collapsed": true,
    "deletable": true,
    "editable": true
   },
   "outputs": [],
   "source": [
    "import scipy"
   ]
  },
  {
   "cell_type": "code",
   "execution_count": 42,
   "metadata": {
    "collapsed": true,
    "deletable": true,
    "editable": true
   },
   "outputs": [],
   "source": [
    "from tabulate import tabulate"
   ]
  },
  {
   "cell_type": "code",
   "execution_count": 44,
   "metadata": {
    "collapsed": false,
    "deletable": true,
    "editable": true
   },
   "outputs": [
    {
     "name": "stdout",
     "output_type": "stream",
     "text": [
      "  Sig    Bk1    Bk2    Bk3    EfS    EaS    Ef1    EaB1    Ef2    EaB2    Ef3    EaB3    Sens1    Sens2    Sens3\n",
      "-----  -----  -----  -----  -----  -----  -----  ------  -----  ------  -----  ------  -------  -------  -------\n",
      "83042  16061  39884  22236   1      1      1       1      1       1      1       1        0        0        0\n",
      "78032  14899   6338  17161   0.94   0.94   0.93    0.93   0.16    0.16   0.77    0.77   255.97   268.64   252.91\n",
      "26436   5042     71   5193   0.34   0.32   0.34    0.31   0.01    0      0.3     0.23   149      162.37   148.65\n",
      "17296   3200     49   3313   0.65   0.21   0.63    0.2    0.69    0      0.64    0.15   120.81   131.33   120.48\n",
      "17262   3196     48   3310   1      0.21   1       0.2    0.98    0      1       0.15   120.69   131.2    120.35\n",
      "14963   2765      6   2910   0.87   0.18   0.87    0.17   0.13    0      0.88    0.13   112.38   122.3    111.92\n"
     ]
    }
   ],
   "source": [
    "print(tabulate(Cortes, headers=['Sig','Bk1', 'Bk2', 'Bk3','EfS','EaS','Ef1','EaB1','Ef2','EaB2','Ef3', 'EaB3','Sens1','Sens2','Sens3']))"
   ]
  },
  {
   "cell_type": "markdown",
   "metadata": {
    "deletable": true,
    "editable": true
   },
   "source": []
  },
  {
   "cell_type": "code",
   "execution_count": null,
   "metadata": {
    "collapsed": true,
    "deletable": true,
    "editable": true
   },
   "outputs": [],
   "source": []
  }
 ],
 "metadata": {
  "kernelspec": {
   "display_name": "Python 2",
   "language": "python",
   "name": "python2"
  },
  "language_info": {
   "codemirror_mode": {
    "name": "ipython",
    "version": 2
   },
   "file_extension": ".py",
   "mimetype": "text/x-python",
   "name": "python",
   "nbconvert_exporter": "python",
   "pygments_lexer": "ipython2",
   "version": "2.7.12"
  }
 },
 "nbformat": 4,
 "nbformat_minor": 2
}
